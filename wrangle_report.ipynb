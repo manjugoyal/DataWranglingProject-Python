{
 "cells": [
  {
   "cell_type": "markdown",
   "metadata": {},
   "source": [
    "<h1> Introduction </h1>\n",
    "> This project is on a twitter account - We rate dogs. In this workspace, I gather, assess and clean my data which I will gather from multiple sources."
   ]
  },
  {
   "cell_type": "code",
   "execution_count": 1,
   "metadata": {},
   "outputs": [],
   "source": [
    "#import all packages used for the project here\n",
    "import pandas as pd\n",
    "import tweepy\n",
    "import numpy as np\n",
    "import requests\n",
    "import json\n",
    "from requests import Session\n",
    "import datetime"
   ]
  },
  {
   "cell_type": "markdown",
   "metadata": {},
   "source": [
    "<h1> Gathering Data </h1>\n",
    "> In this process we will gather data from three sources. The first is a csv file that is provided to us so we have to upload it in same folder as jupyter notebook .ipnyb file and then load it using pandas as a dataframe for analysis"
   ]
  },
  {
   "cell_type": "code",
   "execution_count": 4,
   "metadata": {},
   "outputs": [
    {
     "data": {
      "text/html": [
       "<div>\n",
       "<style>\n",
       "    .dataframe thead tr:only-child th {\n",
       "        text-align: right;\n",
       "    }\n",
       "\n",
       "    .dataframe thead th {\n",
       "        text-align: left;\n",
       "    }\n",
       "\n",
       "    .dataframe tbody tr th {\n",
       "        vertical-align: top;\n",
       "    }\n",
       "</style>\n",
       "<table border=\"1\" class=\"dataframe\">\n",
       "  <thead>\n",
       "    <tr style=\"text-align: right;\">\n",
       "      <th></th>\n",
       "      <th>tweet_id</th>\n",
       "      <th>in_reply_to_status_id</th>\n",
       "      <th>in_reply_to_user_id</th>\n",
       "      <th>timestamp</th>\n",
       "      <th>source</th>\n",
       "      <th>text</th>\n",
       "      <th>retweeted_status_id</th>\n",
       "      <th>retweeted_status_user_id</th>\n",
       "      <th>retweeted_status_timestamp</th>\n",
       "      <th>expanded_urls</th>\n",
       "      <th>rating_numerator</th>\n",
       "      <th>rating_denominator</th>\n",
       "      <th>name</th>\n",
       "      <th>doggo</th>\n",
       "      <th>floofer</th>\n",
       "      <th>pupper</th>\n",
       "      <th>puppo</th>\n",
       "    </tr>\n",
       "  </thead>\n",
       "  <tbody>\n",
       "    <tr>\n",
       "      <th>0</th>\n",
       "      <td>892420643555336193</td>\n",
       "      <td>NaN</td>\n",
       "      <td>NaN</td>\n",
       "      <td>2017-08-01 16:23:56 +0000</td>\n",
       "      <td>&lt;a href=\"http://twitter.com/download/iphone\" r...</td>\n",
       "      <td>This is Phineas. He's a mystical boy. Only eve...</td>\n",
       "      <td>NaN</td>\n",
       "      <td>NaN</td>\n",
       "      <td>NaN</td>\n",
       "      <td>https://twitter.com/dog_rates/status/892420643...</td>\n",
       "      <td>13</td>\n",
       "      <td>10</td>\n",
       "      <td>Phineas</td>\n",
       "      <td>None</td>\n",
       "      <td>None</td>\n",
       "      <td>None</td>\n",
       "      <td>None</td>\n",
       "    </tr>\n",
       "    <tr>\n",
       "      <th>1</th>\n",
       "      <td>892177421306343426</td>\n",
       "      <td>NaN</td>\n",
       "      <td>NaN</td>\n",
       "      <td>2017-08-01 00:17:27 +0000</td>\n",
       "      <td>&lt;a href=\"http://twitter.com/download/iphone\" r...</td>\n",
       "      <td>This is Tilly. She's just checking pup on you....</td>\n",
       "      <td>NaN</td>\n",
       "      <td>NaN</td>\n",
       "      <td>NaN</td>\n",
       "      <td>https://twitter.com/dog_rates/status/892177421...</td>\n",
       "      <td>13</td>\n",
       "      <td>10</td>\n",
       "      <td>Tilly</td>\n",
       "      <td>None</td>\n",
       "      <td>None</td>\n",
       "      <td>None</td>\n",
       "      <td>None</td>\n",
       "    </tr>\n",
       "  </tbody>\n",
       "</table>\n",
       "</div>"
      ],
      "text/plain": [
       "             tweet_id  in_reply_to_status_id  in_reply_to_user_id  \\\n",
       "0  892420643555336193                    NaN                  NaN   \n",
       "1  892177421306343426                    NaN                  NaN   \n",
       "\n",
       "                   timestamp  \\\n",
       "0  2017-08-01 16:23:56 +0000   \n",
       "1  2017-08-01 00:17:27 +0000   \n",
       "\n",
       "                                              source  \\\n",
       "0  <a href=\"http://twitter.com/download/iphone\" r...   \n",
       "1  <a href=\"http://twitter.com/download/iphone\" r...   \n",
       "\n",
       "                                                text  retweeted_status_id  \\\n",
       "0  This is Phineas. He's a mystical boy. Only eve...                  NaN   \n",
       "1  This is Tilly. She's just checking pup on you....                  NaN   \n",
       "\n",
       "   retweeted_status_user_id retweeted_status_timestamp  \\\n",
       "0                       NaN                        NaN   \n",
       "1                       NaN                        NaN   \n",
       "\n",
       "                                       expanded_urls  rating_numerator  \\\n",
       "0  https://twitter.com/dog_rates/status/892420643...                13   \n",
       "1  https://twitter.com/dog_rates/status/892177421...                13   \n",
       "\n",
       "   rating_denominator     name doggo floofer pupper puppo  \n",
       "0                  10  Phineas  None    None   None  None  \n",
       "1                  10    Tilly  None    None   None  None  "
      ]
     },
     "execution_count": 4,
     "metadata": {},
     "output_type": "execute_result"
    }
   ],
   "source": [
    "# load the first csv file first in the same folder as this jupyter notebook and then into a datframe using pandas\n",
    "twitdf=pd.read_csv('twitter-archive-enhanced.csv')\n",
    "# to visually analyse it we could use a df.head command as below\n",
    "twitdf.head(2)"
   ]
  },
  {
   "cell_type": "markdown",
   "metadata": {},
   "source": [
    "> Next lets load the second data by doing te required work to handle it. We have been provided with a url and requests library"
   ]
  },
  {
   "cell_type": "code",
   "execution_count": 3,
   "metadata": {},
   "outputs": [
    {
     "data": {
      "text/html": [
       "<div>\n",
       "<style>\n",
       "    .dataframe thead tr:only-child th {\n",
       "        text-align: right;\n",
       "    }\n",
       "\n",
       "    .dataframe thead th {\n",
       "        text-align: left;\n",
       "    }\n",
       "\n",
       "    .dataframe tbody tr th {\n",
       "        vertical-align: top;\n",
       "    }\n",
       "</style>\n",
       "<table border=\"1\" class=\"dataframe\">\n",
       "  <thead>\n",
       "    <tr style=\"text-align: right;\">\n",
       "      <th></th>\n",
       "      <th>tweet_id</th>\n",
       "      <th>jpg_url</th>\n",
       "      <th>img_num</th>\n",
       "      <th>p1</th>\n",
       "      <th>p1_conf</th>\n",
       "      <th>p1_dog</th>\n",
       "      <th>p2</th>\n",
       "      <th>p2_conf</th>\n",
       "      <th>p2_dog</th>\n",
       "      <th>p3</th>\n",
       "      <th>p3_conf</th>\n",
       "      <th>p3_dog</th>\n",
       "    </tr>\n",
       "  </thead>\n",
       "  <tbody>\n",
       "    <tr>\n",
       "      <th>0</th>\n",
       "      <td>666020888022790149</td>\n",
       "      <td>https://pbs.twimg.com/media/CT4udn0WwAA0aMy.jpg</td>\n",
       "      <td>1</td>\n",
       "      <td>Welsh_springer_spaniel</td>\n",
       "      <td>0.465074</td>\n",
       "      <td>True</td>\n",
       "      <td>collie</td>\n",
       "      <td>0.156665</td>\n",
       "      <td>True</td>\n",
       "      <td>Shetland_sheepdog</td>\n",
       "      <td>0.061428</td>\n",
       "      <td>True</td>\n",
       "    </tr>\n",
       "    <tr>\n",
       "      <th>1</th>\n",
       "      <td>666029285002620928</td>\n",
       "      <td>https://pbs.twimg.com/media/CT42GRgUYAA5iDo.jpg</td>\n",
       "      <td>1</td>\n",
       "      <td>redbone</td>\n",
       "      <td>0.506826</td>\n",
       "      <td>True</td>\n",
       "      <td>miniature_pinscher</td>\n",
       "      <td>0.074192</td>\n",
       "      <td>True</td>\n",
       "      <td>Rhodesian_ridgeback</td>\n",
       "      <td>0.072010</td>\n",
       "      <td>True</td>\n",
       "    </tr>\n",
       "    <tr>\n",
       "      <th>2</th>\n",
       "      <td>666033412701032449</td>\n",
       "      <td>https://pbs.twimg.com/media/CT4521TWwAEvMyu.jpg</td>\n",
       "      <td>1</td>\n",
       "      <td>German_shepherd</td>\n",
       "      <td>0.596461</td>\n",
       "      <td>True</td>\n",
       "      <td>malinois</td>\n",
       "      <td>0.138584</td>\n",
       "      <td>True</td>\n",
       "      <td>bloodhound</td>\n",
       "      <td>0.116197</td>\n",
       "      <td>True</td>\n",
       "    </tr>\n",
       "    <tr>\n",
       "      <th>3</th>\n",
       "      <td>666044226329800704</td>\n",
       "      <td>https://pbs.twimg.com/media/CT5Dr8HUEAA-lEu.jpg</td>\n",
       "      <td>1</td>\n",
       "      <td>Rhodesian_ridgeback</td>\n",
       "      <td>0.408143</td>\n",
       "      <td>True</td>\n",
       "      <td>redbone</td>\n",
       "      <td>0.360687</td>\n",
       "      <td>True</td>\n",
       "      <td>miniature_pinscher</td>\n",
       "      <td>0.222752</td>\n",
       "      <td>True</td>\n",
       "    </tr>\n",
       "    <tr>\n",
       "      <th>4</th>\n",
       "      <td>666049248165822465</td>\n",
       "      <td>https://pbs.twimg.com/media/CT5IQmsXIAAKY4A.jpg</td>\n",
       "      <td>1</td>\n",
       "      <td>miniature_pinscher</td>\n",
       "      <td>0.560311</td>\n",
       "      <td>True</td>\n",
       "      <td>Rottweiler</td>\n",
       "      <td>0.243682</td>\n",
       "      <td>True</td>\n",
       "      <td>Doberman</td>\n",
       "      <td>0.154629</td>\n",
       "      <td>True</td>\n",
       "    </tr>\n",
       "  </tbody>\n",
       "</table>\n",
       "</div>"
      ],
      "text/plain": [
       "             tweet_id                                          jpg_url  \\\n",
       "0  666020888022790149  https://pbs.twimg.com/media/CT4udn0WwAA0aMy.jpg   \n",
       "1  666029285002620928  https://pbs.twimg.com/media/CT42GRgUYAA5iDo.jpg   \n",
       "2  666033412701032449  https://pbs.twimg.com/media/CT4521TWwAEvMyu.jpg   \n",
       "3  666044226329800704  https://pbs.twimg.com/media/CT5Dr8HUEAA-lEu.jpg   \n",
       "4  666049248165822465  https://pbs.twimg.com/media/CT5IQmsXIAAKY4A.jpg   \n",
       "\n",
       "   img_num                      p1   p1_conf  p1_dog                  p2  \\\n",
       "0        1  Welsh_springer_spaniel  0.465074    True              collie   \n",
       "1        1                 redbone  0.506826    True  miniature_pinscher   \n",
       "2        1         German_shepherd  0.596461    True            malinois   \n",
       "3        1     Rhodesian_ridgeback  0.408143    True             redbone   \n",
       "4        1      miniature_pinscher  0.560311    True          Rottweiler   \n",
       "\n",
       "    p2_conf  p2_dog                   p3   p3_conf  p3_dog  \n",
       "0  0.156665    True    Shetland_sheepdog  0.061428    True  \n",
       "1  0.074192    True  Rhodesian_ridgeback  0.072010    True  \n",
       "2  0.138584    True           bloodhound  0.116197    True  \n",
       "3  0.360687    True   miniature_pinscher  0.222752    True  \n",
       "4  0.243682    True             Doberman  0.154629    True  "
      ]
     },
     "execution_count": 3,
     "metadata": {},
     "output_type": "execute_result"
    }
   ],
   "source": [
    "url =\"https://d17h27t6h515a5.cloudfront.net/topher/2017/August/599fd2ad_image-predictions/image-predictions.tsv\"\n",
    "response = requests.get(url)\n",
    "# read the response line by line into the file\n",
    "filename = 'image-predictions.tsv'\n",
    "with open(filename, 'wb') as fd:\n",
    "    for chunk in response.iter_content(chunk_size=128):\n",
    "        fd.write(chunk)\n",
    "# store the response from the file into a dataframe\n",
    "image_df=pd.read_csv('image-predictions.tsv', sep='\\t')\n",
    "image_df.head()"
   ]
  },
  {
   "cell_type": "markdown",
   "metadata": {},
   "source": [
    "Next, using the tweet IDs in the WeRateDogs Twitter archive, we query the Twitter API for each tweet's JSON data using Python's Tweepy library and store each tweet's entire set of JSON data in a file called tweet_json.txt file"
   ]
  },
  {
   "cell_type": "code",
   "execution_count": 4,
   "metadata": {},
   "outputs": [],
   "source": [
    "# Your authentication data here\n",
    "consumer_key = \"t4YqRJHYUJLYQe6W1ilQwLrXK\"\n",
    "consumer_secret = \"5tuofaKpr51eJuiINmTpaYijAxf729pMmY1MSjd3DR4sPBy9oE\"\n",
    "access_token = \"130734301-SuJ8O2mHC0WDGkqdmTkvMGjgBmUWCRtJVlANCCVK\"\n",
    "access_token_secret = \"7zfrgxv8xPvwuEjvjsa6AJsLx9SdSqdacETpZA1VsXHAs\"\n"
   ]
  },
  {
   "cell_type": "code",
   "execution_count": 19,
   "metadata": {},
   "outputs": [
    {
     "name": "stdout",
     "output_type": "stream",
     "text": [
      "888202515573088257_error\n",
      "873697596434513921_error\n",
      "869988702071779329_error\n",
      "866816280283807744_error\n",
      "861769973181624320_error\n",
      "845459076796616705_error\n",
      "842892208864923648_error\n",
      "837012587749474308_error\n",
      "827228250799742977_error\n",
      "802247111496568832_error\n",
      "775096608509886464_error\n",
      "Rate limit reached. Sleeping for: 723\n"
     ]
    }
   ],
   "source": [
    "# connect to tweepy using auth api and authentication data from above\n",
    "auth = tweepy.OAuthHandler(consumer_key, consumer_secret)\n",
    "auth.set_access_token(access_token, access_token_secret)\n",
    "api = tweepy.API(auth, parser = tweepy.parsers.JSONParser(), # Parse the result to Json Object\n",
    "                 wait_on_rate_limit = True, # Automatically wait for rate limits to replenish\n",
    "                 wait_on_rate_limit_notify = True) # Print a notification when Tweepy is waiting for rate limits to replenish\n",
    "# store all the data in a list of dictionary\n",
    "list_api=[]\n",
    "# store tweet id of any error in a list\n",
    "error_list = []\n",
    "\n",
    "for tweet_id in twitdf['tweet_id']:\n",
    "    try:\n",
    "        page = api.get_status(tweet_id, tweet_mode = \"extended\")\n",
    "        retwt_count = json.dumps(page['retweet_count'])\n",
    "        fav_count =json.dumps(page['favorite_count'])\n",
    "        list_api.append({'tweet_id': int(tweet_id),'favorite_count': int(fav_count), 'retweet_count': int(retwt_count)})\n",
    "    except:\n",
    "        print(str(tweet_id)+'_'+'error')\n",
    "        error_list.append(tweet_id)"
   ]
  },
  {
   "cell_type": "code",
   "execution_count": 20,
   "metadata": {},
   "outputs": [
    {
     "name": "stdout",
     "output_type": "stream",
     "text": [
      "2345\n",
      "11\n"
     ]
    }
   ],
   "source": [
    "print(len(list_api))\n",
    "print(len(error_list))"
   ]
  },
  {
   "cell_type": "markdown",
   "metadata": {},
   "source": [
    "> So we were not able to obtain the favorite and retweet information of 11 tweets this way. This list is stored in error_list in case we want to access it at a later stage"
   ]
  },
  {
   "cell_type": "code",
   "execution_count": 23,
   "metadata": {},
   "outputs": [
    {
     "data": {
      "text/html": [
       "<div>\n",
       "<style>\n",
       "    .dataframe thead tr:only-child th {\n",
       "        text-align: right;\n",
       "    }\n",
       "\n",
       "    .dataframe thead th {\n",
       "        text-align: left;\n",
       "    }\n",
       "\n",
       "    .dataframe tbody tr th {\n",
       "        vertical-align: top;\n",
       "    }\n",
       "</style>\n",
       "<table border=\"1\" class=\"dataframe\">\n",
       "  <thead>\n",
       "    <tr style=\"text-align: right;\">\n",
       "      <th></th>\n",
       "      <th>favorite_count</th>\n",
       "      <th>retweet_count</th>\n",
       "      <th>tweet_id</th>\n",
       "    </tr>\n",
       "  </thead>\n",
       "  <tbody>\n",
       "    <tr>\n",
       "      <th>0</th>\n",
       "      <td>38826</td>\n",
       "      <td>8594</td>\n",
       "      <td>892420643555336193</td>\n",
       "    </tr>\n",
       "    <tr>\n",
       "      <th>1</th>\n",
       "      <td>33259</td>\n",
       "      <td>6316</td>\n",
       "      <td>892177421306343426</td>\n",
       "    </tr>\n",
       "    <tr>\n",
       "      <th>2</th>\n",
       "      <td>25056</td>\n",
       "      <td>4192</td>\n",
       "      <td>891815181378084864</td>\n",
       "    </tr>\n",
       "    <tr>\n",
       "      <th>3</th>\n",
       "      <td>42206</td>\n",
       "      <td>8707</td>\n",
       "      <td>891689557279858688</td>\n",
       "    </tr>\n",
       "    <tr>\n",
       "      <th>4</th>\n",
       "      <td>40353</td>\n",
       "      <td>9480</td>\n",
       "      <td>891327558926688256</td>\n",
       "    </tr>\n",
       "    <tr>\n",
       "      <th>5</th>\n",
       "      <td>20239</td>\n",
       "      <td>3137</td>\n",
       "      <td>891087950875897856</td>\n",
       "    </tr>\n",
       "    <tr>\n",
       "      <th>6</th>\n",
       "      <td>11863</td>\n",
       "      <td>2088</td>\n",
       "      <td>890971913173991426</td>\n",
       "    </tr>\n",
       "    <tr>\n",
       "      <th>7</th>\n",
       "      <td>65598</td>\n",
       "      <td>19056</td>\n",
       "      <td>890729181411237888</td>\n",
       "    </tr>\n",
       "    <tr>\n",
       "      <th>8</th>\n",
       "      <td>27786</td>\n",
       "      <td>4301</td>\n",
       "      <td>890609185150312448</td>\n",
       "    </tr>\n",
       "    <tr>\n",
       "      <th>9</th>\n",
       "      <td>31963</td>\n",
       "      <td>7475</td>\n",
       "      <td>890240255349198849</td>\n",
       "    </tr>\n",
       "    <tr>\n",
       "      <th>10</th>\n",
       "      <td>30677</td>\n",
       "      <td>7394</td>\n",
       "      <td>890006608113172480</td>\n",
       "    </tr>\n",
       "    <tr>\n",
       "      <th>11</th>\n",
       "      <td>27814</td>\n",
       "      <td>5008</td>\n",
       "      <td>889880896479866881</td>\n",
       "    </tr>\n",
       "    <tr>\n",
       "      <th>12</th>\n",
       "      <td>48168</td>\n",
       "      <td>10146</td>\n",
       "      <td>889665388333682689</td>\n",
       "    </tr>\n",
       "    <tr>\n",
       "      <th>13</th>\n",
       "      <td>27184</td>\n",
       "      <td>4582</td>\n",
       "      <td>889638837579907072</td>\n",
       "    </tr>\n",
       "    <tr>\n",
       "      <th>14</th>\n",
       "      <td>15110</td>\n",
       "      <td>2254</td>\n",
       "      <td>889531135344209921</td>\n",
       "    </tr>\n",
       "    <tr>\n",
       "      <th>15</th>\n",
       "      <td>25323</td>\n",
       "      <td>5478</td>\n",
       "      <td>889278841981685760</td>\n",
       "    </tr>\n",
       "    <tr>\n",
       "      <th>16</th>\n",
       "      <td>29107</td>\n",
       "      <td>4533</td>\n",
       "      <td>888917238123831296</td>\n",
       "    </tr>\n",
       "    <tr>\n",
       "      <th>17</th>\n",
       "      <td>25613</td>\n",
       "      <td>4381</td>\n",
       "      <td>888804989199671297</td>\n",
       "    </tr>\n",
       "    <tr>\n",
       "      <th>18</th>\n",
       "      <td>19929</td>\n",
       "      <td>3613</td>\n",
       "      <td>888554962724278272</td>\n",
       "    </tr>\n",
       "    <tr>\n",
       "      <th>19</th>\n",
       "      <td>21775</td>\n",
       "      <td>3522</td>\n",
       "      <td>888078434458587136</td>\n",
       "    </tr>\n",
       "    <tr>\n",
       "      <th>20</th>\n",
       "      <td>30221</td>\n",
       "      <td>5437</td>\n",
       "      <td>887705289381826560</td>\n",
       "    </tr>\n",
       "    <tr>\n",
       "      <th>21</th>\n",
       "      <td>46273</td>\n",
       "      <td>11757</td>\n",
       "      <td>887517139158093824</td>\n",
       "    </tr>\n",
       "    <tr>\n",
       "      <th>22</th>\n",
       "      <td>69183</td>\n",
       "      <td>18388</td>\n",
       "      <td>887473957103951883</td>\n",
       "    </tr>\n",
       "    <tr>\n",
       "      <th>23</th>\n",
       "      <td>33731</td>\n",
       "      <td>10492</td>\n",
       "      <td>887343217045368832</td>\n",
       "    </tr>\n",
       "    <tr>\n",
       "      <th>24</th>\n",
       "      <td>30566</td>\n",
       "      <td>6007</td>\n",
       "      <td>887101392804085760</td>\n",
       "    </tr>\n",
       "    <tr>\n",
       "      <th>25</th>\n",
       "      <td>35185</td>\n",
       "      <td>7829</td>\n",
       "      <td>886983233522544640</td>\n",
       "    </tr>\n",
       "    <tr>\n",
       "      <th>26</th>\n",
       "      <td>12085</td>\n",
       "      <td>3323</td>\n",
       "      <td>886736880519319552</td>\n",
       "    </tr>\n",
       "    <tr>\n",
       "      <th>27</th>\n",
       "      <td>22449</td>\n",
       "      <td>4506</td>\n",
       "      <td>886680336477933568</td>\n",
       "    </tr>\n",
       "    <tr>\n",
       "      <th>28</th>\n",
       "      <td>21153</td>\n",
       "      <td>3204</td>\n",
       "      <td>886366144734445568</td>\n",
       "    </tr>\n",
       "    <tr>\n",
       "      <th>29</th>\n",
       "      <td>116</td>\n",
       "      <td>4</td>\n",
       "      <td>886267009285017600</td>\n",
       "    </tr>\n",
       "    <tr>\n",
       "      <th>...</th>\n",
       "      <td>...</td>\n",
       "      <td>...</td>\n",
       "      <td>...</td>\n",
       "    </tr>\n",
       "    <tr>\n",
       "      <th>2315</th>\n",
       "      <td>450</td>\n",
       "      <td>329</td>\n",
       "      <td>666411507551481857</td>\n",
       "    </tr>\n",
       "    <tr>\n",
       "      <th>2316</th>\n",
       "      <td>110</td>\n",
       "      <td>41</td>\n",
       "      <td>666407126856765440</td>\n",
       "    </tr>\n",
       "    <tr>\n",
       "      <th>2317</th>\n",
       "      <td>168</td>\n",
       "      <td>86</td>\n",
       "      <td>666396247373291520</td>\n",
       "    </tr>\n",
       "    <tr>\n",
       "      <th>2318</th>\n",
       "      <td>189</td>\n",
       "      <td>93</td>\n",
       "      <td>666373753744588802</td>\n",
       "    </tr>\n",
       "    <tr>\n",
       "      <th>2319</th>\n",
       "      <td>782</td>\n",
       "      <td>577</td>\n",
       "      <td>666362758909284353</td>\n",
       "    </tr>\n",
       "    <tr>\n",
       "      <th>2320</th>\n",
       "      <td>222</td>\n",
       "      <td>73</td>\n",
       "      <td>666353288456101888</td>\n",
       "    </tr>\n",
       "    <tr>\n",
       "      <th>2321</th>\n",
       "      <td>300</td>\n",
       "      <td>140</td>\n",
       "      <td>666345417576210432</td>\n",
       "    </tr>\n",
       "    <tr>\n",
       "      <th>2322</th>\n",
       "      <td>199</td>\n",
       "      <td>92</td>\n",
       "      <td>666337882303524864</td>\n",
       "    </tr>\n",
       "    <tr>\n",
       "      <th>2323</th>\n",
       "      <td>511</td>\n",
       "      <td>358</td>\n",
       "      <td>666293911632134144</td>\n",
       "    </tr>\n",
       "    <tr>\n",
       "      <th>2324</th>\n",
       "      <td>149</td>\n",
       "      <td>68</td>\n",
       "      <td>666287406224695296</td>\n",
       "    </tr>\n",
       "    <tr>\n",
       "      <th>2325</th>\n",
       "      <td>177</td>\n",
       "      <td>76</td>\n",
       "      <td>666273097616637952</td>\n",
       "    </tr>\n",
       "    <tr>\n",
       "      <th>2326</th>\n",
       "      <td>104</td>\n",
       "      <td>35</td>\n",
       "      <td>666268910803644416</td>\n",
       "    </tr>\n",
       "    <tr>\n",
       "      <th>2327</th>\n",
       "      <td>14404</td>\n",
       "      <td>6660</td>\n",
       "      <td>666104133288665088</td>\n",
       "    </tr>\n",
       "    <tr>\n",
       "      <th>2328</th>\n",
       "      <td>79</td>\n",
       "      <td>13</td>\n",
       "      <td>666102155909144576</td>\n",
       "    </tr>\n",
       "    <tr>\n",
       "      <th>2329</th>\n",
       "      <td>158</td>\n",
       "      <td>69</td>\n",
       "      <td>666099513787052032</td>\n",
       "    </tr>\n",
       "    <tr>\n",
       "      <th>2330</th>\n",
       "      <td>166</td>\n",
       "      <td>76</td>\n",
       "      <td>666094000022159362</td>\n",
       "    </tr>\n",
       "    <tr>\n",
       "      <th>2331</th>\n",
       "      <td>119</td>\n",
       "      <td>45</td>\n",
       "      <td>666082916733198337</td>\n",
       "    </tr>\n",
       "    <tr>\n",
       "      <th>2332</th>\n",
       "      <td>323</td>\n",
       "      <td>166</td>\n",
       "      <td>666073100786774016</td>\n",
       "    </tr>\n",
       "    <tr>\n",
       "      <th>2333</th>\n",
       "      <td>148</td>\n",
       "      <td>62</td>\n",
       "      <td>666071193221509120</td>\n",
       "    </tr>\n",
       "    <tr>\n",
       "      <th>2334</th>\n",
       "      <td>479</td>\n",
       "      <td>223</td>\n",
       "      <td>666063827256086533</td>\n",
       "    </tr>\n",
       "    <tr>\n",
       "      <th>2335</th>\n",
       "      <td>112</td>\n",
       "      <td>57</td>\n",
       "      <td>666058600524156928</td>\n",
       "    </tr>\n",
       "    <tr>\n",
       "      <th>2336</th>\n",
       "      <td>298</td>\n",
       "      <td>141</td>\n",
       "      <td>666057090499244032</td>\n",
       "    </tr>\n",
       "    <tr>\n",
       "      <th>2337</th>\n",
       "      <td>437</td>\n",
       "      <td>257</td>\n",
       "      <td>666055525042405380</td>\n",
       "    </tr>\n",
       "    <tr>\n",
       "      <th>2338</th>\n",
       "      <td>1229</td>\n",
       "      <td>854</td>\n",
       "      <td>666051853826850816</td>\n",
       "    </tr>\n",
       "    <tr>\n",
       "      <th>2339</th>\n",
       "      <td>132</td>\n",
       "      <td>58</td>\n",
       "      <td>666050758794694657</td>\n",
       "    </tr>\n",
       "    <tr>\n",
       "      <th>2340</th>\n",
       "      <td>109</td>\n",
       "      <td>40</td>\n",
       "      <td>666049248165822465</td>\n",
       "    </tr>\n",
       "    <tr>\n",
       "      <th>2341</th>\n",
       "      <td>298</td>\n",
       "      <td>141</td>\n",
       "      <td>666044226329800704</td>\n",
       "    </tr>\n",
       "    <tr>\n",
       "      <th>2342</th>\n",
       "      <td>125</td>\n",
       "      <td>44</td>\n",
       "      <td>666033412701032449</td>\n",
       "    </tr>\n",
       "    <tr>\n",
       "      <th>2343</th>\n",
       "      <td>130</td>\n",
       "      <td>47</td>\n",
       "      <td>666029285002620928</td>\n",
       "    </tr>\n",
       "    <tr>\n",
       "      <th>2344</th>\n",
       "      <td>2560</td>\n",
       "      <td>518</td>\n",
       "      <td>666020888022790149</td>\n",
       "    </tr>\n",
       "  </tbody>\n",
       "</table>\n",
       "<p>2345 rows × 3 columns</p>\n",
       "</div>"
      ],
      "text/plain": [
       "      favorite_count  retweet_count            tweet_id\n",
       "0              38826           8594  892420643555336193\n",
       "1              33259           6316  892177421306343426\n",
       "2              25056           4192  891815181378084864\n",
       "3              42206           8707  891689557279858688\n",
       "4              40353           9480  891327558926688256\n",
       "5              20239           3137  891087950875897856\n",
       "6              11863           2088  890971913173991426\n",
       "7              65598          19056  890729181411237888\n",
       "8              27786           4301  890609185150312448\n",
       "9              31963           7475  890240255349198849\n",
       "10             30677           7394  890006608113172480\n",
       "11             27814           5008  889880896479866881\n",
       "12             48168          10146  889665388333682689\n",
       "13             27184           4582  889638837579907072\n",
       "14             15110           2254  889531135344209921\n",
       "15             25323           5478  889278841981685760\n",
       "16             29107           4533  888917238123831296\n",
       "17             25613           4381  888804989199671297\n",
       "18             19929           3613  888554962724278272\n",
       "19             21775           3522  888078434458587136\n",
       "20             30221           5437  887705289381826560\n",
       "21             46273          11757  887517139158093824\n",
       "22             69183          18388  887473957103951883\n",
       "23             33731          10492  887343217045368832\n",
       "24             30566           6007  887101392804085760\n",
       "25             35185           7829  886983233522544640\n",
       "26             12085           3323  886736880519319552\n",
       "27             22449           4506  886680336477933568\n",
       "28             21153           3204  886366144734445568\n",
       "29               116              4  886267009285017600\n",
       "...              ...            ...                 ...\n",
       "2315             450            329  666411507551481857\n",
       "2316             110             41  666407126856765440\n",
       "2317             168             86  666396247373291520\n",
       "2318             189             93  666373753744588802\n",
       "2319             782            577  666362758909284353\n",
       "2320             222             73  666353288456101888\n",
       "2321             300            140  666345417576210432\n",
       "2322             199             92  666337882303524864\n",
       "2323             511            358  666293911632134144\n",
       "2324             149             68  666287406224695296\n",
       "2325             177             76  666273097616637952\n",
       "2326             104             35  666268910803644416\n",
       "2327           14404           6660  666104133288665088\n",
       "2328              79             13  666102155909144576\n",
       "2329             158             69  666099513787052032\n",
       "2330             166             76  666094000022159362\n",
       "2331             119             45  666082916733198337\n",
       "2332             323            166  666073100786774016\n",
       "2333             148             62  666071193221509120\n",
       "2334             479            223  666063827256086533\n",
       "2335             112             57  666058600524156928\n",
       "2336             298            141  666057090499244032\n",
       "2337             437            257  666055525042405380\n",
       "2338            1229            854  666051853826850816\n",
       "2339             132             58  666050758794694657\n",
       "2340             109             40  666049248165822465\n",
       "2341             298            141  666044226329800704\n",
       "2342             125             44  666033412701032449\n",
       "2343             130             47  666029285002620928\n",
       "2344            2560            518  666020888022790149\n",
       "\n",
       "[2345 rows x 3 columns]"
      ]
     },
     "execution_count": 23,
     "metadata": {},
     "output_type": "execute_result"
    }
   ],
   "source": [
    "# store the list info in a dataframe\n",
    "api_tweets = pd.DataFrame(list_api)\n",
    "# Save the dataFrame in file tweet_json.txt\n",
    "api_tweets.to_csv('tweet_json.csv', encoding = 'utf-8', index=False)\n",
    "api_tweets"
   ]
  },
  {
   "cell_type": "code",
   "execution_count": 5,
   "metadata": {},
   "outputs": [
    {
     "name": "stdout",
     "output_type": "stream",
     "text": [
      "<class 'pandas.core.frame.DataFrame'>\n",
      "RangeIndex: 2345 entries, 0 to 2344\n",
      "Data columns (total 3 columns):\n",
      "favorite_count    2345 non-null int64\n",
      "retweet_count     2345 non-null int64\n",
      "tweet_id          2345 non-null int64\n",
      "dtypes: int64(3)\n",
      "memory usage: 55.0 KB\n"
     ]
    }
   ],
   "source": [
    "# read the file that we just stored\n",
    "api_tweets=pd.read_csv('tweet_json.csv')\n",
    "api_tweets.info()"
   ]
  },
  {
   "cell_type": "markdown",
   "metadata": {},
   "source": [
    "<h1> Gathering: Summary </h1>\n",
    "> Data was essentially gathered from an online link, a csv file and from an online website through api. Now lets proceed to the next step which is data assessing stage\n",
    "<h1> Assessing Stage </h1>\n",
    "> Data files gathered need to be inspected both visually and programatically and all quality and tidiness issues need to be enumerated at this step "
   ]
  },
  {
   "cell_type": "code",
   "execution_count": 6,
   "metadata": {},
   "outputs": [
    {
     "name": "stdout",
     "output_type": "stream",
     "text": [
      "<class 'pandas.core.frame.DataFrame'>\n",
      "RangeIndex: 2356 entries, 0 to 2355\n",
      "Data columns (total 17 columns):\n",
      "tweet_id                      2356 non-null int64\n",
      "in_reply_to_status_id         78 non-null float64\n",
      "in_reply_to_user_id           78 non-null float64\n",
      "timestamp                     2356 non-null object\n",
      "source                        2356 non-null object\n",
      "text                          2356 non-null object\n",
      "retweeted_status_id           181 non-null float64\n",
      "retweeted_status_user_id      181 non-null float64\n",
      "retweeted_status_timestamp    181 non-null object\n",
      "expanded_urls                 2297 non-null object\n",
      "rating_numerator              2356 non-null int64\n",
      "rating_denominator            2356 non-null int64\n",
      "name                          2356 non-null object\n",
      "doggo                         2356 non-null object\n",
      "floofer                       2356 non-null object\n",
      "pupper                        2356 non-null object\n",
      "puppo                         2356 non-null object\n",
      "dtypes: float64(4), int64(3), object(10)\n",
      "memory usage: 313.0+ KB\n"
     ]
    }
   ],
   "source": [
    "# let us first explore twitdf dataframe\n",
    "twitdf.info()"
   ]
  },
  {
   "cell_type": "markdown",
   "metadata": {},
   "source": [
    "> Looking at this info, it is clear that some of the tweets are retweets. 181 of them. These will not be used in our analysis since we will only be dealing with original ratings. Dog stage is written in multiple columns whereas one line should be enough for the same. Datatype is not right for timestamp (should be datetime), retweeetd_status_id, retweeted_status_user_id and retweeted_status_timestamp. However the retweeted columns will not be used in our analysis so I am going to get rid of them anyway so I will not change their datatypes. Lets do more analysis of this dataframe to understand what else needs to be done."
   ]
  },
  {
   "cell_type": "code",
   "execution_count": 6,
   "metadata": {},
   "outputs": [
    {
     "data": {
      "text/plain": [
       "None       2346\n",
       "floofer      10\n",
       "Name: floofer, dtype: int64"
      ]
     },
     "execution_count": 6,
     "metadata": {},
     "output_type": "execute_result"
    }
   ],
   "source": [
    "twitdf['floofer'].value_counts()"
   ]
  },
  {
   "cell_type": "code",
   "execution_count": 7,
   "metadata": {},
   "outputs": [
    {
     "data": {
      "text/plain": [
       "None     2259\n",
       "doggo      97\n",
       "Name: doggo, dtype: int64"
      ]
     },
     "execution_count": 7,
     "metadata": {},
     "output_type": "execute_result"
    }
   ],
   "source": [
    "twitdf['doggo'].value_counts()"
   ]
  },
  {
   "cell_type": "code",
   "execution_count": 8,
   "metadata": {},
   "outputs": [
    {
     "data": {
      "text/plain": [
       "None     2326\n",
       "puppo      30\n",
       "Name: puppo, dtype: int64"
      ]
     },
     "execution_count": 8,
     "metadata": {},
     "output_type": "execute_result"
    }
   ],
   "source": [
    "twitdf['puppo'].value_counts()"
   ]
  },
  {
   "cell_type": "code",
   "execution_count": 9,
   "metadata": {},
   "outputs": [
    {
     "data": {
      "text/plain": [
       "None      2099\n",
       "pupper     257\n",
       "Name: pupper, dtype: int64"
      ]
     },
     "execution_count": 9,
     "metadata": {},
     "output_type": "execute_result"
    }
   ],
   "source": [
    "twitdf['pupper'].value_counts()"
   ]
  },
  {
   "cell_type": "markdown",
   "metadata": {},
   "source": [
    "There is no need of 4 columns of the dogtype when it can essentially be told in one column. This is a tidyness issue. Additionally we do not know a dog type for all the dogs. "
   ]
  },
  {
   "cell_type": "code",
   "execution_count": 10,
   "metadata": {},
   "outputs": [
    {
     "data": {
      "text/plain": [
       "10     2333\n",
       "11        3\n",
       "50        3\n",
       "80        2\n",
       "20        2\n",
       "2         1\n",
       "16        1\n",
       "40        1\n",
       "70        1\n",
       "15        1\n",
       "90        1\n",
       "110       1\n",
       "120       1\n",
       "130       1\n",
       "150       1\n",
       "170       1\n",
       "7         1\n",
       "0         1\n",
       "Name: rating_denominator, dtype: int64"
      ]
     },
     "execution_count": 10,
     "metadata": {},
     "output_type": "execute_result"
    }
   ],
   "source": [
    "twitdf['rating_denominator'].value_counts()"
   ]
  },
  {
   "cell_type": "markdown",
   "metadata": {},
   "source": [
    "> The above analysis shows that though the rating should have been 10, it is not always the case indicating that maybe they were wrongly extracted from the dataset. We will extract the ratings again just to be sure that they were rightly extracted"
   ]
  },
  {
   "cell_type": "code",
   "execution_count": 7,
   "metadata": {},
   "outputs": [
    {
     "data": {
      "text/plain": [
       "<a href=\"http://twitter.com/download/iphone\" rel=\"nofollow\">Twitter for iPhone</a>     2221\n",
       "<a href=\"http://vine.co\" rel=\"nofollow\">Vine - Make a Scene</a>                          91\n",
       "<a href=\"http://twitter.com\" rel=\"nofollow\">Twitter Web Client</a>                       33\n",
       "<a href=\"https://about.twitter.com/products/tweetdeck\" rel=\"nofollow\">TweetDeck</a>      11\n",
       "Name: source, dtype: int64"
      ]
     },
     "execution_count": 7,
     "metadata": {},
     "output_type": "execute_result"
    }
   ],
   "source": [
    "# there is a column called source. Lets understand its contents more\n",
    "twitdf['source'].value_counts()"
   ]
  },
  {
   "cell_type": "markdown",
   "metadata": {},
   "source": [
    "This column has some info that wont be needed and can be deleted. So we will clean up this column."
   ]
  },
  {
   "cell_type": "code",
   "execution_count": 11,
   "metadata": {},
   "outputs": [
    {
     "data": {
      "text/plain": [
       "313     @jonnysun @Lin_Manuel ok jomny I know you're e...\n",
       "342              @docmisterio account started on 11/15/15\n",
       "433     The floofs have been released I repeat the flo...\n",
       "516     Meet Sam. She smiles 24/7 &amp; secretly aspir...\n",
       "784     RT @dog_rates: After so many requests, this is...\n",
       "902     Why does this never happen at my front door......\n",
       "1068    After so many requests, this is Bretagne. She ...\n",
       "1120    Say hello to this unbelievably well behaved sq...\n",
       "1165    Happy 4/20 from the squad! 13/10 for all https...\n",
       "1202    This is Bluebert. He just saw that both #Final...\n",
       "1228    Happy Saturday here's 9 puppers on a bench. 99...\n",
       "1254    Here's a brigade of puppers. All look very pre...\n",
       "1274    From left to right:\\nCletus, Jerome, Alejandro...\n",
       "1351    Here is a whole flock of puppers.  60/50 I'll ...\n",
       "1433    Happy Wednesday here's a bucket of pups. 44/40...\n",
       "1598    Yes I do realize a rating of 4/20 would've bee...\n",
       "1634    Two sneaky puppers were not initially seen, mo...\n",
       "1635    Someone help the girl is being mugged. Several...\n",
       "1662    This is Darrel. He just robbed a 7/11 and is i...\n",
       "1663    I'm aware that I could've said 20/16, but here...\n",
       "1779    IT'S PUPPERGEDDON. Total of 144/120 ...I think...\n",
       "1843    Here we have an entire platoon of puppers. Tot...\n",
       "2335    This is an Albanian 3 1/2 legged  Episcopalian...\n",
       "Name: text, dtype: object"
      ]
     },
     "execution_count": 11,
     "metadata": {},
     "output_type": "execute_result"
    }
   ],
   "source": [
    "# lets also read some random columns whose denominator is not 10 or rather all columns whose denominator is not 10.\n",
    "twitdf[twitdf['rating_denominator'] !=10 ]['text']"
   ]
  },
  {
   "cell_type": "markdown",
   "metadata": {},
   "source": [
    "Reading the text of those columns shows that these entries have been misread coz they contain multiple digits or they dont have ratings."
   ]
  },
  {
   "cell_type": "code",
   "execution_count": 7,
   "metadata": {},
   "outputs": [
    {
     "name": "stdout",
     "output_type": "stream",
     "text": [
      "<class 'pandas.core.frame.DataFrame'>\n",
      "RangeIndex: 2075 entries, 0 to 2074\n",
      "Data columns (total 12 columns):\n",
      "tweet_id    2075 non-null int64\n",
      "jpg_url     2075 non-null object\n",
      "img_num     2075 non-null int64\n",
      "p1          2075 non-null object\n",
      "p1_conf     2075 non-null float64\n",
      "p1_dog      2075 non-null bool\n",
      "p2          2075 non-null object\n",
      "p2_conf     2075 non-null float64\n",
      "p2_dog      2075 non-null bool\n",
      "p3          2075 non-null object\n",
      "p3_conf     2075 non-null float64\n",
      "p3_dog      2075 non-null bool\n",
      "dtypes: bool(3), float64(3), int64(2), object(4)\n",
      "memory usage: 152.1+ KB\n"
     ]
    }
   ],
   "source": [
    "# now, lets look at other column\n",
    "image_df.info()"
   ]
  },
  {
   "cell_type": "markdown",
   "metadata": {},
   "source": [
    "> We do not have images for all 2356 entries in twitdf dataframe. There are 3 predictions but I am going to keep only 1 for my analysis. Addiitonally I am going to keep the data on its confidence level and p1_dog which tells whether it is a dog or not for later. I am going to delete everything else. Also, the column names need to be more explanatory than what they are here.\n",
    "\n",
    "Now for the last dataframe, since we downloaded it ourself, we know there are 11 missing entries for favorites and retweets. All other data is present."
   ]
  },
  {
   "cell_type": "markdown",
   "metadata": {},
   "source": [
    "<h2> Quality Issues </h2>\n",
    "> 1. There are a few Tweets with no images. I am going to delete those rows to have data with all the information even from my other dataframes.\n",
    "2. Dataset contains 181 retweets which can be seen from the twitdf frame that need to be deleted\n",
    "3. Dog rating might be incorrect and it needs to be verified from the text provided as some denominator ratings are more than 10. \n",
    "4. Eventually 2 columns are not needed for ratings as all will have denominator 10 and we can then name rating_numerator as just rating\n",
    "5. Incorrect/Missing dog names - but do we really need to tidy this up? I will not be using this in my analysis so I am skipping this step\n",
    "6. Column names need to be edited to make them self-explanatory. \n",
    "7. Tweet id is not an integer and can be made string type\n",
    "8. Datatypes are not correct (timestamp needs to be converted to datetime and then made in a format one will use for analysis)\n",
    "9. twitdf dataframe's column, source has a lot of extra information that can be deleted so it makes more sense \n",
    "\n",
    "\n",
    "<h2> Tidiness Issues </h2>\n",
    ">1. Dog stage is written in 4 columns and they can be assembled into one stage by using pandas melt function\n",
    "2. The three dataframes can be joined into one and then saved as a masterfile \n",
    "3. A lot of extra columns such as in the image_df where we dont need prediction 2 and 3 and in_reply_to_status_id, in_reply_to_user_id which can finally be deleted after using them"
   ]
  },
  {
   "cell_type": "markdown",
   "metadata": {},
   "source": [
    "> Let us start dealing with the issues but to start with. Let us first merge all 3 dataframes into one. For this, I am going to  use tweet_id as the pivot"
   ]
  },
  {
   "cell_type": "code",
   "execution_count": 20,
   "metadata": {},
   "outputs": [],
   "source": [
    "masterdf= twitdf.join(api_tweets.set_index(\"tweet_id\"), on = \"tweet_id\", how = \"inner\")"
   ]
  },
  {
   "cell_type": "markdown",
   "metadata": {},
   "source": [
    "Now, lets merge the image_df and then I will drop the extraneous columns in the dataframes. For this one, since not aving an image should not be an issue, I am goignt o performa  left join "
   ]
  },
  {
   "cell_type": "code",
   "execution_count": 21,
   "metadata": {},
   "outputs": [
    {
     "data": {
      "text/html": [
       "<div>\n",
       "<style>\n",
       "    .dataframe thead tr:only-child th {\n",
       "        text-align: right;\n",
       "    }\n",
       "\n",
       "    .dataframe thead th {\n",
       "        text-align: left;\n",
       "    }\n",
       "\n",
       "    .dataframe tbody tr th {\n",
       "        vertical-align: top;\n",
       "    }\n",
       "</style>\n",
       "<table border=\"1\" class=\"dataframe\">\n",
       "  <thead>\n",
       "    <tr style=\"text-align: right;\">\n",
       "      <th></th>\n",
       "      <th>tweet_id</th>\n",
       "      <th>in_reply_to_status_id</th>\n",
       "      <th>in_reply_to_user_id</th>\n",
       "      <th>timestamp</th>\n",
       "      <th>source</th>\n",
       "      <th>text</th>\n",
       "      <th>retweeted_status_id</th>\n",
       "      <th>retweeted_status_user_id</th>\n",
       "      <th>retweeted_status_timestamp</th>\n",
       "      <th>expanded_urls</th>\n",
       "      <th>...</th>\n",
       "      <th>img_num</th>\n",
       "      <th>p1</th>\n",
       "      <th>p1_conf</th>\n",
       "      <th>p1_dog</th>\n",
       "      <th>p2</th>\n",
       "      <th>p2_conf</th>\n",
       "      <th>p2_dog</th>\n",
       "      <th>p3</th>\n",
       "      <th>p3_conf</th>\n",
       "      <th>p3_dog</th>\n",
       "    </tr>\n",
       "  </thead>\n",
       "  <tbody>\n",
       "    <tr>\n",
       "      <th>0</th>\n",
       "      <td>892420643555336193</td>\n",
       "      <td>NaN</td>\n",
       "      <td>NaN</td>\n",
       "      <td>2017-08-01 16:23:56 +0000</td>\n",
       "      <td>&lt;a href=\"http://twitter.com/download/iphone\" r...</td>\n",
       "      <td>This is Phineas. He's a mystical boy. Only eve...</td>\n",
       "      <td>NaN</td>\n",
       "      <td>NaN</td>\n",
       "      <td>NaN</td>\n",
       "      <td>https://twitter.com/dog_rates/status/892420643...</td>\n",
       "      <td>...</td>\n",
       "      <td>1</td>\n",
       "      <td>orange</td>\n",
       "      <td>0.097049</td>\n",
       "      <td>False</td>\n",
       "      <td>bagel</td>\n",
       "      <td>0.085851</td>\n",
       "      <td>False</td>\n",
       "      <td>banana</td>\n",
       "      <td>0.076110</td>\n",
       "      <td>False</td>\n",
       "    </tr>\n",
       "    <tr>\n",
       "      <th>1</th>\n",
       "      <td>892177421306343426</td>\n",
       "      <td>NaN</td>\n",
       "      <td>NaN</td>\n",
       "      <td>2017-08-01 00:17:27 +0000</td>\n",
       "      <td>&lt;a href=\"http://twitter.com/download/iphone\" r...</td>\n",
       "      <td>This is Tilly. She's just checking pup on you....</td>\n",
       "      <td>NaN</td>\n",
       "      <td>NaN</td>\n",
       "      <td>NaN</td>\n",
       "      <td>https://twitter.com/dog_rates/status/892177421...</td>\n",
       "      <td>...</td>\n",
       "      <td>1</td>\n",
       "      <td>Chihuahua</td>\n",
       "      <td>0.323581</td>\n",
       "      <td>True</td>\n",
       "      <td>Pekinese</td>\n",
       "      <td>0.090647</td>\n",
       "      <td>True</td>\n",
       "      <td>papillon</td>\n",
       "      <td>0.068957</td>\n",
       "      <td>True</td>\n",
       "    </tr>\n",
       "  </tbody>\n",
       "</table>\n",
       "<p>2 rows × 30 columns</p>\n",
       "</div>"
      ],
      "text/plain": [
       "             tweet_id  in_reply_to_status_id  in_reply_to_user_id  \\\n",
       "0  892420643555336193                    NaN                  NaN   \n",
       "1  892177421306343426                    NaN                  NaN   \n",
       "\n",
       "                   timestamp  \\\n",
       "0  2017-08-01 16:23:56 +0000   \n",
       "1  2017-08-01 00:17:27 +0000   \n",
       "\n",
       "                                              source  \\\n",
       "0  <a href=\"http://twitter.com/download/iphone\" r...   \n",
       "1  <a href=\"http://twitter.com/download/iphone\" r...   \n",
       "\n",
       "                                                text  retweeted_status_id  \\\n",
       "0  This is Phineas. He's a mystical boy. Only eve...                  NaN   \n",
       "1  This is Tilly. She's just checking pup on you....                  NaN   \n",
       "\n",
       "   retweeted_status_user_id retweeted_status_timestamp  \\\n",
       "0                       NaN                        NaN   \n",
       "1                       NaN                        NaN   \n",
       "\n",
       "                                       expanded_urls  ...    img_num  \\\n",
       "0  https://twitter.com/dog_rates/status/892420643...  ...          1   \n",
       "1  https://twitter.com/dog_rates/status/892177421...  ...          1   \n",
       "\n",
       "          p1   p1_conf p1_dog        p2   p2_conf p2_dog        p3   p3_conf  \\\n",
       "0     orange  0.097049  False     bagel  0.085851  False    banana  0.076110   \n",
       "1  Chihuahua  0.323581   True  Pekinese  0.090647   True  papillon  0.068957   \n",
       "\n",
       "  p3_dog  \n",
       "0  False  \n",
       "1   True  \n",
       "\n",
       "[2 rows x 30 columns]"
      ]
     },
     "execution_count": 21,
     "metadata": {},
     "output_type": "execute_result"
    }
   ],
   "source": [
    "masterdf = masterdf.join(image_df.set_index(\"tweet_id\"), on = \"tweet_id\", how = \"inner\")\n",
    "masterdf.head(2)"
   ]
  },
  {
   "cell_type": "markdown",
   "metadata": {},
   "source": [
    "> Now, let us drop the extra columns, to start with we do not want any retweets in our analysis, so I am truncating my dataframe to choose only those rows where the value in the retweetwd_status_id is null"
   ]
  },
  {
   "cell_type": "code",
   "execution_count": 22,
   "metadata": {},
   "outputs": [
    {
     "name": "stdout",
     "output_type": "stream",
     "text": [
      "<class 'pandas.core.frame.DataFrame'>\n",
      "Int64Index: 1994 entries, 0 to 2355\n",
      "Data columns (total 30 columns):\n",
      "tweet_id                      1994 non-null int64\n",
      "in_reply_to_status_id         23 non-null float64\n",
      "in_reply_to_user_id           23 non-null float64\n",
      "timestamp                     1994 non-null object\n",
      "source                        1994 non-null object\n",
      "text                          1994 non-null object\n",
      "retweeted_status_id           0 non-null float64\n",
      "retweeted_status_user_id      0 non-null float64\n",
      "retweeted_status_timestamp    0 non-null object\n",
      "expanded_urls                 1994 non-null object\n",
      "rating_numerator              1994 non-null int64\n",
      "rating_denominator            1994 non-null int64\n",
      "name                          1994 non-null object\n",
      "doggo                         1994 non-null object\n",
      "floofer                       1994 non-null object\n",
      "pupper                        1994 non-null object\n",
      "puppo                         1994 non-null object\n",
      "favorite_count                1994 non-null int64\n",
      "retweet_count                 1994 non-null int64\n",
      "jpg_url                       1994 non-null object\n",
      "img_num                       1994 non-null int64\n",
      "p1                            1994 non-null object\n",
      "p1_conf                       1994 non-null float64\n",
      "p1_dog                        1994 non-null bool\n",
      "p2                            1994 non-null object\n",
      "p2_conf                       1994 non-null float64\n",
      "p2_dog                        1994 non-null bool\n",
      "p3                            1994 non-null object\n",
      "p3_conf                       1994 non-null float64\n",
      "p3_dog                        1994 non-null bool\n",
      "dtypes: bool(3), float64(7), int64(6), object(14)\n",
      "memory usage: 442.0+ KB\n"
     ]
    }
   ],
   "source": [
    "masterdf = masterdf[masterdf['retweeted_status_id'].isnull()]\n",
    "# let us verify our job was done by looking at info\n",
    "masterdf.info()"
   ]
  },
  {
   "cell_type": "markdown",
   "metadata": {},
   "source": [
    "> Now let us drop the extra columns, p2, p2_conf, p2_dog, p3, p3_conf,p3_dog, retweeted_status_user_id, retweeted_status_timestamp, retweeted_status_id, img_num, in_reply_to_status_id, in_reply_to_user_id"
   ]
  },
  {
   "cell_type": "code",
   "execution_count": 23,
   "metadata": {},
   "outputs": [
    {
     "name": "stdout",
     "output_type": "stream",
     "text": [
      "<class 'pandas.core.frame.DataFrame'>\n",
      "Int64Index: 1994 entries, 0 to 2355\n",
      "Data columns (total 18 columns):\n",
      "tweet_id              1994 non-null int64\n",
      "timestamp             1994 non-null object\n",
      "source                1994 non-null object\n",
      "text                  1994 non-null object\n",
      "expanded_urls         1994 non-null object\n",
      "rating_numerator      1994 non-null int64\n",
      "rating_denominator    1994 non-null int64\n",
      "name                  1994 non-null object\n",
      "doggo                 1994 non-null object\n",
      "floofer               1994 non-null object\n",
      "pupper                1994 non-null object\n",
      "puppo                 1994 non-null object\n",
      "favorite_count        1994 non-null int64\n",
      "retweet_count         1994 non-null int64\n",
      "jpg_url               1994 non-null object\n",
      "p1                    1994 non-null object\n",
      "p1_conf               1994 non-null float64\n",
      "p1_dog                1994 non-null bool\n",
      "dtypes: bool(1), float64(1), int64(5), object(11)\n",
      "memory usage: 282.4+ KB\n"
     ]
    }
   ],
   "source": [
    "masterdf.drop([\"p2\", \"p2_conf\", \"p2_dog\", \"p3\", \"p3_conf\",\"p3_dog\", \"retweeted_status_user_id\", \"retweeted_status_timestamp\", \"retweeted_status_id\", \"img_num\", \"in_reply_to_status_id\", \"in_reply_to_user_id\"], axis=1, inplace=True)\n",
    "# let us confirm the changes have been made\n",
    "masterdf.info()"
   ]
  },
  {
   "cell_type": "markdown",
   "metadata": {},
   "source": [
    "> Now let us put all dog stage columns together into one column by the name Dog_stage instead of multiple columns"
   ]
  },
  {
   "cell_type": "code",
   "execution_count": 24,
   "metadata": {},
   "outputs": [
    {
     "name": "stdout",
     "output_type": "stream",
     "text": [
      "<class 'pandas.core.frame.DataFrame'>\n",
      "Int64Index: 1994 entries, 0 to 2355\n",
      "Data columns (total 15 columns):\n",
      "tweet_id              1994 non-null int64\n",
      "timestamp             1994 non-null object\n",
      "source                1994 non-null object\n",
      "text                  1994 non-null object\n",
      "expanded_urls         1994 non-null object\n",
      "rating_numerator      1994 non-null int64\n",
      "rating_denominator    1994 non-null int64\n",
      "name                  1994 non-null object\n",
      "favorite_count        1994 non-null int64\n",
      "retweet_count         1994 non-null int64\n",
      "jpg_url               1994 non-null object\n",
      "p1                    1994 non-null object\n",
      "p1_conf               1994 non-null float64\n",
      "p1_dog                1994 non-null bool\n",
      "Dog_stage             1994 non-null object\n",
      "dtypes: bool(1), float64(1), int64(5), object(8)\n",
      "memory usage: 235.6+ KB\n"
     ]
    }
   ],
   "source": [
    "#first lets join all the column values\n",
    "masterdf['Dog_stage'] = masterdf['puppo']+masterdf['doggo']+masterdf['floofer']+masterdf['pupper']\n",
    "#column values are strings with only the below combinations and they need to be chnaged accordingly\n",
    "masterdf['Dog_stage'].replace(\"NoneNoneNoneNone\",\"None \", inplace=True)\n",
    "masterdf['Dog_stage'].replace(\"puppoNoneNoneNone\",\"puppo\", inplace=True)\n",
    "masterdf['Dog_stage'].replace(\"NonedoggoNoneNone\",\"doggo\", inplace=True)\n",
    "masterdf['Dog_stage'].replace(\"NoneNoneflooferNone\",\"floofer\", inplace=True)\n",
    "masterdf['Dog_stage'].replace(\"NoneNoneNonepupper\",\"pupper\", inplace=True)\n",
    "# let us drop extra columns\n",
    "masterdf.drop(['puppo','doggo','floofer','pupper'], axis=1, inplace=True)\n",
    "# let us verify our plan is successful\n",
    "masterdf.info()"
   ]
  },
  {
   "cell_type": "code",
   "execution_count": 25,
   "metadata": {},
   "outputs": [
    {
     "name": "stdout",
     "output_type": "stream",
     "text": [
      "<class 'pandas.core.frame.DataFrame'>\n",
      "Int64Index: 1994 entries, 0 to 2355\n",
      "Data columns (total 16 columns):\n",
      "tweet_id              1994 non-null int64\n",
      "timestamp             1994 non-null datetime64[ns]\n",
      "source                1994 non-null object\n",
      "text                  1994 non-null object\n",
      "expanded_urls         1994 non-null object\n",
      "rating_numerator      1994 non-null int64\n",
      "rating_denominator    1994 non-null int64\n",
      "name                  1994 non-null object\n",
      "favorite_count        1994 non-null int64\n",
      "retweet_count         1994 non-null int64\n",
      "jpg_url               1994 non-null object\n",
      "p1                    1994 non-null object\n",
      "p1_conf               1994 non-null float64\n",
      "p1_dog                1994 non-null bool\n",
      "Dog_stage             1994 non-null object\n",
      "hour_of_day           1994 non-null int64\n",
      "dtypes: bool(1), datetime64[ns](1), float64(1), int64(6), object(7)\n",
      "memory usage: 251.2+ KB\n",
      "None\n"
     ]
    },
    {
     "data": {
      "text/html": [
       "<div>\n",
       "<style>\n",
       "    .dataframe thead tr:only-child th {\n",
       "        text-align: right;\n",
       "    }\n",
       "\n",
       "    .dataframe thead th {\n",
       "        text-align: left;\n",
       "    }\n",
       "\n",
       "    .dataframe tbody tr th {\n",
       "        vertical-align: top;\n",
       "    }\n",
       "</style>\n",
       "<table border=\"1\" class=\"dataframe\">\n",
       "  <thead>\n",
       "    <tr style=\"text-align: right;\">\n",
       "      <th></th>\n",
       "      <th>tweet_id</th>\n",
       "      <th>timestamp</th>\n",
       "      <th>source</th>\n",
       "      <th>text</th>\n",
       "      <th>expanded_urls</th>\n",
       "      <th>rating_numerator</th>\n",
       "      <th>rating_denominator</th>\n",
       "      <th>name</th>\n",
       "      <th>favorite_count</th>\n",
       "      <th>retweet_count</th>\n",
       "      <th>jpg_url</th>\n",
       "      <th>p1</th>\n",
       "      <th>p1_conf</th>\n",
       "      <th>p1_dog</th>\n",
       "      <th>Dog_stage</th>\n",
       "      <th>hour_of_day</th>\n",
       "    </tr>\n",
       "  </thead>\n",
       "  <tbody>\n",
       "    <tr>\n",
       "      <th>0</th>\n",
       "      <td>892420643555336193</td>\n",
       "      <td>2017-08-01</td>\n",
       "      <td>&lt;a href=\"http://twitter.com/download/iphone\" r...</td>\n",
       "      <td>This is Phineas. He's a mystical boy. Only eve...</td>\n",
       "      <td>https://twitter.com/dog_rates/status/892420643...</td>\n",
       "      <td>13</td>\n",
       "      <td>10</td>\n",
       "      <td>Phineas</td>\n",
       "      <td>38826</td>\n",
       "      <td>8594</td>\n",
       "      <td>https://pbs.twimg.com/media/DGKD1-bXoAAIAUK.jpg</td>\n",
       "      <td>orange</td>\n",
       "      <td>0.097049</td>\n",
       "      <td>False</td>\n",
       "      <td>None</td>\n",
       "      <td>16</td>\n",
       "    </tr>\n",
       "    <tr>\n",
       "      <th>1</th>\n",
       "      <td>892177421306343426</td>\n",
       "      <td>2017-08-01</td>\n",
       "      <td>&lt;a href=\"http://twitter.com/download/iphone\" r...</td>\n",
       "      <td>This is Tilly. She's just checking pup on you....</td>\n",
       "      <td>https://twitter.com/dog_rates/status/892177421...</td>\n",
       "      <td>13</td>\n",
       "      <td>10</td>\n",
       "      <td>Tilly</td>\n",
       "      <td>33259</td>\n",
       "      <td>6316</td>\n",
       "      <td>https://pbs.twimg.com/media/DGGmoV4XsAAUL6n.jpg</td>\n",
       "      <td>Chihuahua</td>\n",
       "      <td>0.323581</td>\n",
       "      <td>True</td>\n",
       "      <td>None</td>\n",
       "      <td>0</td>\n",
       "    </tr>\n",
       "  </tbody>\n",
       "</table>\n",
       "</div>"
      ],
      "text/plain": [
       "             tweet_id  timestamp  \\\n",
       "0  892420643555336193 2017-08-01   \n",
       "1  892177421306343426 2017-08-01   \n",
       "\n",
       "                                              source  \\\n",
       "0  <a href=\"http://twitter.com/download/iphone\" r...   \n",
       "1  <a href=\"http://twitter.com/download/iphone\" r...   \n",
       "\n",
       "                                                text  \\\n",
       "0  This is Phineas. He's a mystical boy. Only eve...   \n",
       "1  This is Tilly. She's just checking pup on you....   \n",
       "\n",
       "                                       expanded_urls  rating_numerator  \\\n",
       "0  https://twitter.com/dog_rates/status/892420643...                13   \n",
       "1  https://twitter.com/dog_rates/status/892177421...                13   \n",
       "\n",
       "   rating_denominator     name  favorite_count  retweet_count  \\\n",
       "0                  10  Phineas           38826           8594   \n",
       "1                  10    Tilly           33259           6316   \n",
       "\n",
       "                                           jpg_url         p1   p1_conf  \\\n",
       "0  https://pbs.twimg.com/media/DGKD1-bXoAAIAUK.jpg     orange  0.097049   \n",
       "1  https://pbs.twimg.com/media/DGGmoV4XsAAUL6n.jpg  Chihuahua  0.323581   \n",
       "\n",
       "   p1_dog Dog_stage  hour_of_day  \n",
       "0   False     None            16  \n",
       "1    True     None             0  "
      ]
     },
     "execution_count": 25,
     "metadata": {},
     "output_type": "execute_result"
    }
   ],
   "source": [
    "#now let us deal with the timestamp. I intend to use the date to find how tweets have changed over time so \n",
    "# I will keep year and month together and hour of the day in another column named Hour_of_day \n",
    "masterdf['timestamp']=pd.to_datetime(masterdf['timestamp'])\n",
    "masterdf['hour_of_day']=masterdf.timestamp.apply(lambda x: x.hour)\n",
    "masterdf['timestamp']=masterdf.timestamp.apply(lambda x:x.strftime(\"%m/%Y/%d\"))\n",
    "masterdf['timestamp']=masterdf.timestamp.apply(lambda x:datetime.datetime.strptime(x, \"%m/%Y/%d\"))\n",
    "# let us verify our changes were made\n",
    "print(masterdf.info())\n",
    "masterdf.head(2)"
   ]
  },
  {
   "cell_type": "code",
   "execution_count": 26,
   "metadata": {},
   "outputs": [
    {
     "name": "stdout",
     "output_type": "stream",
     "text": [
      "<class 'pandas.core.frame.DataFrame'>\n",
      "Int64Index: 1994 entries, 0 to 2355\n",
      "Data columns (total 15 columns):\n",
      "tweet_id          1994 non-null int64\n",
      "timestamp         1994 non-null datetime64[ns]\n",
      "source            1994 non-null object\n",
      "text              1994 non-null object\n",
      "expanded_urls     1994 non-null object\n",
      "name              1994 non-null object\n",
      "favorite_count    1994 non-null int64\n",
      "retweet_count     1994 non-null int64\n",
      "jpg_url           1994 non-null object\n",
      "p1                1994 non-null object\n",
      "p1_conf           1994 non-null float64\n",
      "p1_dog            1994 non-null bool\n",
      "Dog_stage         1994 non-null object\n",
      "hour_of_day       1994 non-null int64\n",
      "rating            1981 non-null object\n",
      "dtypes: bool(1), datetime64[ns](1), float64(1), int64(4), object(8)\n",
      "memory usage: 235.6+ KB\n"
     ]
    }
   ],
   "source": [
    "# Next, lets fix the rating_denominator valuecounts since they should all ideally be 10\n",
    "masterdf.rating_denominator.value_counts()\n",
    "# a majority of ratings are infact 10, but 1994-1976=18 are still different. We could look into each entry and try to correct\n",
    "# it manually or we could use regex to extract the correct ratings. I want to experiment with regex so I am going to use that\n",
    "# another way would have been truncating our data to only those ratings that had denominator 10 but then we might be losing \n",
    "# some interesting information so I did not choose that path\n",
    "# Using the resources provided in this degree on regex at https://regexone.com/\n",
    "# pandas.extract method at https://pandas.pydata.org/pandas-docs/stable/generated/pandas.Series.str.extract.html \n",
    "masterdf['rating']=masterdf.text.str.extract(r'(\\d+)/10', expand=True)\n",
    "# some ratings were not successfully extracted so dropping those columns now\n",
    "masterdf.dropna(subset=['rating'])\n",
    "# earlier numerator and denominator columns are not needed anymore\n",
    "masterdf.drop([\"rating_numerator\",\"rating_denominator\"], axis=1, inplace=True)\n",
    "# now lets verify all is fine\n",
    "masterdf.info()"
   ]
  },
  {
   "cell_type": "code",
   "execution_count": 27,
   "metadata": {},
   "outputs": [
    {
     "name": "stdout",
     "output_type": "stream",
     "text": [
      "<class 'pandas.core.frame.DataFrame'>\n",
      "Int64Index: 1981 entries, 0 to 2355\n",
      "Data columns (total 15 columns):\n",
      "tweet_id          1981 non-null int64\n",
      "timestamp         1981 non-null datetime64[ns]\n",
      "source            1981 non-null object\n",
      "text              1981 non-null object\n",
      "expanded_urls     1981 non-null object\n",
      "name              1981 non-null object\n",
      "favorite_count    1981 non-null int64\n",
      "retweet_count     1981 non-null int64\n",
      "jpg_url           1981 non-null object\n",
      "p1                1981 non-null object\n",
      "p1_conf           1981 non-null float64\n",
      "p1_dog            1981 non-null bool\n",
      "Dog_stage         1981 non-null object\n",
      "hour_of_day       1981 non-null int64\n",
      "rating            1981 non-null object\n",
      "dtypes: bool(1), datetime64[ns](1), float64(1), int64(4), object(8)\n",
      "memory usage: 234.1+ KB\n"
     ]
    }
   ],
   "source": [
    "# seems like we still have some ratings that havent filled up, so lets drop those columns again\n",
    "masterdf = masterdf[masterdf['rating'].notnull()]\n",
    "# let us verify the clean up was successful\n",
    "masterdf.info()"
   ]
  },
  {
   "cell_type": "markdown",
   "metadata": {},
   "source": [
    "> Now let us fix the source column. It has a lot of extra info of urls that is not needed"
   ]
  },
  {
   "cell_type": "code",
   "execution_count": 28,
   "metadata": {},
   "outputs": [
    {
     "data": {
      "text/plain": [
       "Twitter for iPhone    1942\n",
       "Twitter Web Client      28\n",
       "TweetDeck               11\n",
       "Name: source, dtype: int64"
      ]
     },
     "execution_count": 28,
     "metadata": {},
     "output_type": "execute_result"
    }
   ],
   "source": [
    "masterdf['source'] = masterdf.source.str.extract(r'>(.*)<', expand=True)\n",
    "# let us verify the changes were successful\n",
    "masterdf.source.value_counts()"
   ]
  },
  {
   "cell_type": "code",
   "execution_count": 29,
   "metadata": {},
   "outputs": [
    {
     "name": "stdout",
     "output_type": "stream",
     "text": [
      "<class 'pandas.core.frame.DataFrame'>\n",
      "Int64Index: 1981 entries, 0 to 2355\n",
      "Data columns (total 15 columns):\n",
      "tweet_id          1981 non-null int64\n",
      "timestamp         1981 non-null datetime64[ns]\n",
      "source            1981 non-null object\n",
      "text              1981 non-null object\n",
      "expanded_urls     1981 non-null object\n",
      "name              1981 non-null object\n",
      "favorite_count    1981 non-null int64\n",
      "retweet_count     1981 non-null int64\n",
      "jpg_url           1981 non-null object\n",
      "p1                1981 non-null object\n",
      "p1_conf           1981 non-null float64\n",
      "p1_dog            1981 non-null bool\n",
      "Dog_stage         1981 non-null object\n",
      "hour_of_day       1981 non-null int64\n",
      "rating            1981 non-null object\n",
      "dtypes: bool(1), datetime64[ns](1), float64(1), int64(4), object(8)\n",
      "memory usage: 234.1+ KB\n"
     ]
    }
   ],
   "source": [
    "# lets see what more needs to be done\n",
    "masterdf.info()\n"
   ]
  },
  {
   "cell_type": "code",
   "execution_count": 30,
   "metadata": {},
   "outputs": [
    {
     "name": "stdout",
     "output_type": "stream",
     "text": [
      "<class 'pandas.core.frame.DataFrame'>\n",
      "Int64Index: 1981 entries, 0 to 2355\n",
      "Data columns (total 15 columns):\n",
      "tweet_id          1981 non-null object\n",
      "timestamp         1981 non-null datetime64[ns]\n",
      "source            1981 non-null object\n",
      "text              1981 non-null object\n",
      "expanded_urls     1981 non-null object\n",
      "name              1981 non-null object\n",
      "favorite_count    1981 non-null int64\n",
      "retweet_count     1981 non-null int64\n",
      "jpg_url           1981 non-null object\n",
      "p1                1981 non-null object\n",
      "p1_conf           1981 non-null float64\n",
      "p1_dog            1981 non-null bool\n",
      "Dog_stage         1981 non-null object\n",
      "hour_of_day       1981 non-null int64\n",
      "rating            1981 non-null object\n",
      "dtypes: bool(1), datetime64[ns](1), float64(1), int64(3), object(9)\n",
      "memory usage: 234.1+ KB\n"
     ]
    }
   ],
   "source": [
    "# lets change the datatype for tweet_id to str\n",
    "masterdf['tweet_id']=masterdf['tweet_id'].astype(str)\n",
    "masterdf.info()"
   ]
  },
  {
   "cell_type": "code",
   "execution_count": 31,
   "metadata": {},
   "outputs": [
    {
     "name": "stdout",
     "output_type": "stream",
     "text": [
      "<class 'pandas.core.frame.DataFrame'>\n",
      "Int64Index: 1981 entries, 0 to 2355\n",
      "Data columns (total 12 columns):\n",
      "tweet_id          1981 non-null object\n",
      "timestamp         1981 non-null datetime64[ns]\n",
      "source            1981 non-null object\n",
      "favorite_count    1981 non-null int64\n",
      "retweet_count     1981 non-null int64\n",
      "jpg_url           1981 non-null object\n",
      "p1                1981 non-null object\n",
      "p1_conf           1981 non-null float64\n",
      "p1_dog            1981 non-null bool\n",
      "Dog_stage         1981 non-null object\n",
      "hour_of_day       1981 non-null int64\n",
      "rating            1981 non-null object\n",
      "dtypes: bool(1), datetime64[ns](1), float64(1), int64(3), object(6)\n",
      "memory usage: 187.7+ KB\n"
     ]
    }
   ],
   "source": [
    "# the column expanded_urls is not needed, \n",
    "# I dont intend to use name as well and text so lets drop those as well. Then we will rename other columns\n",
    "masterdf.drop(['text','name','expanded_urls'], axis=1, inplace=True)\n",
    "# lets verify that the changes were infact made\n",
    "masterdf.info()"
   ]
  },
  {
   "cell_type": "code",
   "execution_count": 32,
   "metadata": {},
   "outputs": [
    {
     "name": "stdout",
     "output_type": "stream",
     "text": [
      "<class 'pandas.core.frame.DataFrame'>\n",
      "Int64Index: 1981 entries, 0 to 2355\n",
      "Data columns (total 10 columns):\n",
      "tweet_id                1981 non-null object\n",
      "Date_of_tweet           1981 non-null datetime64[ns]\n",
      "source                  1981 non-null object\n",
      "favorite_count          1981 non-null int64\n",
      "retweet_count           1981 non-null int64\n",
      "Dog_image               1981 non-null object\n",
      "Prediction_Dog_Breed    1981 non-null object\n",
      "Dog_stage               1981 non-null object\n",
      "hour_of_day             1981 non-null int64\n",
      "rating                  1981 non-null object\n",
      "dtypes: datetime64[ns](1), int64(3), object(6)\n",
      "memory usage: 170.2+ KB\n"
     ]
    }
   ],
   "source": [
    "# lets rename the columns to something more explicit\n",
    "masterdf=masterdf.rename(columns={'timestamp':'Date_of_tweet','p1':'Prediction_Dog_Breed','jpg_url':'Dog_image'})\n",
    "# I wont be using p1_conf and p1_dog so dropping those columns as well\n",
    "masterdf.drop(['p1_conf','p1_dog'], axis=1, inplace=True)\n",
    "# lets verify our changes were infact made\n",
    "masterdf.info()"
   ]
  },
  {
   "cell_type": "code",
   "execution_count": 33,
   "metadata": {},
   "outputs": [],
   "source": [
    "# This completes our cleaning of the dataset. \n",
    "# I am going to store this clean dataframe into a file and then analyse the data in the next step. \n",
    "masterdf.to_csv('twitter_archive_master.csv', index=False)"
   ]
  }
 ],
 "metadata": {
  "kernelspec": {
   "display_name": "Python 3",
   "language": "python",
   "name": "python3"
  },
  "language_info": {
   "codemirror_mode": {
    "name": "ipython",
    "version": 3
   },
   "file_extension": ".py",
   "mimetype": "text/x-python",
   "name": "python",
   "nbconvert_exporter": "python",
   "pygments_lexer": "ipython3",
   "version": "3.6.3"
  }
 },
 "nbformat": 4,
 "nbformat_minor": 2
}
